{
 "cells": [
  {
   "cell_type": "markdown",
   "metadata": {},
   "source": [
    "# what 16:9 screen size do we need to be charged for 1 sqr meter?"
   ]
  },
  {
   "cell_type": "markdown",
   "metadata": {},
   "source": [
    "settings"
   ]
  },
  {
   "cell_type": "code",
   "execution_count": 30,
   "metadata": {},
   "outputs": [],
   "source": [
    "import numpy as np\n",
    "import math\n",
    "aspect_w = 16\n",
    "aspect_h = 9\n",
    "fp_error = 0.0001\n",
    "def square(x):\n",
    "    return x*x\n"
   ]
  },
  {
   "cell_type": "markdown",
   "metadata": {},
   "source": [
    "Calculating the area in inches squares of 1 inch screen"
   ]
  },
  {
   "cell_type": "code",
   "execution_count": 35,
   "metadata": {},
   "outputs": [
    {
     "name": "stdout",
     "output_type": "stream",
     "text": [
      "dimensions of 1 diag screen [0.87157554 0.49026124]\n",
      "its area is 0.42729970326409494\n"
     ]
    }
   ],
   "source": [
    "some_screen_dims = np.array([aspect_w,aspect_h])\n",
    "#some_screan_area = np.product(some_screen_dims)\n",
    "one_diag_screen_dims = some_screen_dims / np.linalg.norm(some_screen_dims)\n",
    "\n",
    "assert(np.linalg.norm(one_diag_screen_dims) - 1 < fp_error)\n",
    "one_diag_screen_area = np.product(one_diag_screen_dims)\n",
    "print(\"dimensions of 1 diag screen \" + str(one_diag_screen_dims))\n",
    "print(\"its area is \" + str(one_diag_screen_area))"
   ]
  },
  {
   "cell_type": "markdown",
   "metadata": {},
   "source": [
    "calculating square inches in a square meter"
   ]
  },
  {
   "cell_type": "code",
   "execution_count": 36,
   "metadata": {},
   "outputs": [
    {
     "name": "stdout",
     "output_type": "stream",
     "text": [
      "1550.0031000062\n"
     ]
    }
   ],
   "source": [
    "inches2_in_meter2 = square(100) / square(2.54)\n",
    "print(inches2_in_meter2)"
   ]
  },
  {
   "cell_type": "markdown",
   "metadata": {},
   "source": [
    "so the diagonal in inches of 1 square meter screen is:"
   ]
  },
  {
   "cell_type": "code",
   "execution_count": 42,
   "metadata": {},
   "outputs": [
    {
     "name": "stdout",
     "output_type": "stream",
     "text": [
      "60.2282144051372\" screen\n",
      "screen dimensions (inches): [52.49343832 29.52755906]\n",
      "screen dimensions (cm): [133.33333333  75.        ]\n"
     ]
    }
   ],
   "source": [
    "one_inch_screens_in_one_meter2 = inches2_in_meter2 / one_diag_screen_area # number of 1 inch screens in 1*m^2\n",
    "one_meter2_screen_diag_in_inches = math.sqrt(one_inch_screens_in_one_meter2)\n",
    "print(str(one_meter2_screen_diag_in_inches) + \"\\\" screen\");\n",
    "screen_dim_inches = one_diag_screen_dims * one_meter2_screen_diag_in_inches\n",
    "print(\"screen dimensions (inches): \" + str(screen_dim_inches))\n",
    "print(\"screen dimensions (cm): \" + str(screen_dim_inches * 2.54))"
   ]
  }
 ],
 "metadata": {
  "kernelspec": {
   "display_name": "Python 3",
   "language": "python",
   "name": "python3"
  },
  "language_info": {
   "codemirror_mode": {
    "name": "ipython",
    "version": 3
   },
   "file_extension": ".py",
   "mimetype": "text/x-python",
   "name": "python",
   "nbconvert_exporter": "python",
   "pygments_lexer": "ipython3",
   "version": "3.7.0"
  }
 },
 "nbformat": 4,
 "nbformat_minor": 4
}
